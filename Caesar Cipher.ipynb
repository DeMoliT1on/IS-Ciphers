{
 "cells": [
  {
   "cell_type": "code",
   "execution_count": 12,
   "metadata": {},
   "outputs": [
    {
     "name": "stdout",
     "output_type": "stream",
     "text": [
      "Cipher text: lipps\n",
      "Plain text: hello\n"
     ]
    }
   ],
   "source": [
    "def encrypt(text,s):\n",
    "    cipher=\"\"\n",
    "    text=text.lower()\n",
    "    for i in range(len(text)):\n",
    "        ch=text[i]\n",
    "        cipher+=chr((ord(ch) + s - 97) % 26 + 97)\n",
    "    return cipher\n",
    "print(\"Cipher text: {}\".format(encrypt(\"Hello\",4)))\n",
    "print(\"Plain text: {}\".format(encrypt(\"Lipps\",-4)))"
   ]
  },
  {
   "cell_type": "code",
   "execution_count": null,
   "metadata": {},
   "outputs": [],
   "source": []
  }
 ],
 "metadata": {
  "kernelspec": {
   "display_name": "Python 3",
   "language": "python",
   "name": "python3"
  },
  "language_info": {
   "codemirror_mode": {
    "name": "ipython",
    "version": 3
   },
   "file_extension": ".py",
   "mimetype": "text/x-python",
   "name": "python",
   "nbconvert_exporter": "python",
   "pygments_lexer": "ipython3",
   "version": "3.8.5"
  }
 },
 "nbformat": 4,
 "nbformat_minor": 4
}
