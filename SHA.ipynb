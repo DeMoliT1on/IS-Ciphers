{
 "cells": [
  {
   "cell_type": "code",
   "execution_count": 2,
   "metadata": {},
   "outputs": [
    {
     "name": "stdout",
     "output_type": "stream",
     "text": [
      "Enter string:Dhruv Topiwala\n",
      "The hexadecimal equivalent of SHA1 is : \n",
      "dde49159da0baa0c769884e72101a12896681c38\n"
     ]
    }
   ],
   "source": [
    "import hashlib\n",
    "str = input(\"Enter string:\")\n",
    "result = hashlib.sha1(str.encode())\n",
    "print(\"The hexadecimal equivalent of SHA1 is : \")\n",
    "print(result.hexdigest())"
   ]
  },
  {
   "cell_type": "code",
   "execution_count": null,
   "metadata": {},
   "outputs": [],
   "source": []
  }
 ],
 "metadata": {
  "kernelspec": {
   "display_name": "Python 3",
   "language": "python",
   "name": "python3"
  },
  "language_info": {
   "codemirror_mode": {
    "name": "ipython",
    "version": 3
   },
   "file_extension": ".py",
   "mimetype": "text/x-python",
   "name": "python",
   "nbconvert_exporter": "python",
   "pygments_lexer": "ipython3",
   "version": "3.8.5"
  }
 },
 "nbformat": 4,
 "nbformat_minor": 4
}
