{
 "cells": [
  {
   "cell_type": "code",
   "execution_count": 4,
   "metadata": {},
   "outputs": [
    {
     "name": "stdout",
     "output_type": "stream",
     "text": [
      "Enter Plain Text to be ciphered: DhruvTopiwala\n",
      "Enter the key: 4312\n",
      "['D', 'h', 'r', 'u']\n",
      "['v', 'T', 'o', 'p']\n",
      "['i', 'w', 'a', 'l']\n",
      "['a', 'x', 'x', 'x']\n",
      "\n",
      "\n",
      "Ciphered Text: roaxuplxhTwxDvia\n"
     ]
    }
   ],
   "source": [
    "ip = input('Enter Plain Text to be ciphered: ')\n",
    "key = input('Enter the key: ')\n",
    "l = len(key)\n",
    "textLength = len(ip)\n",
    "rows = 0\n",
    "\n",
    "if textLength % l != 0:\n",
    "    ip += (l - (textLength % l)) * 'x'\n",
    "\n",
    "key = [int(letter) for letter in key]\n",
    "\n",
    "if textLength % l == 0:\n",
    "    rows = int(textLength / l)\n",
    "else:\n",
    "    rows = int(textLength / l) + 1\n",
    "\n",
    "matrix = [[0 for x in range(l)] for y in range(rows)]\n",
    "i = 0\n",
    "for x in range(rows):\n",
    "    for y in range(l):\n",
    "        if i < textLength:\n",
    "            matrix[x][y] = ip[i]\n",
    "            i += 1\n",
    "        else:\n",
    "            matrix[x][y] = 'x'\n",
    "\n",
    "for d in matrix:\n",
    "    print(d)\n",
    "print('\\n')\n",
    "\n",
    "cipheredText = ''\n",
    "for x in range(1,len(key)+1):\n",
    "    for i in range(rows):\n",
    "        cipheredText += str(matrix[i][key.index(x)])\n",
    "\n",
    "print(f'Ciphered Text: {cipheredText}')"
   ]
  },
  {
   "cell_type": "code",
   "execution_count": null,
   "metadata": {},
   "outputs": [],
   "source": []
  }
 ],
 "metadata": {
  "kernelspec": {
   "display_name": "Python 3",
   "language": "python",
   "name": "python3"
  },
  "language_info": {
   "codemirror_mode": {
    "name": "ipython",
    "version": 3
   },
   "file_extension": ".py",
   "mimetype": "text/x-python",
   "name": "python",
   "nbconvert_exporter": "python",
   "pygments_lexer": "ipython3",
   "version": "3.8.5"
  }
 },
 "nbformat": 4,
 "nbformat_minor": 4
}
