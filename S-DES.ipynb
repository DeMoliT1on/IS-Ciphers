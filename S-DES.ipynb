{
 "cells": [
  {
   "cell_type": "code",
   "execution_count": 2,
   "metadata": {},
   "outputs": [
    {
     "name": "stdout",
     "output_type": "stream",
     "text": [
      "Initial Key : [1, 0, 1, 0, 0, 0, 0, 0, 1, 0]\n",
      "Final Key : [0, 0, 1, 0, 1, 1, 0, 0]\n"
     ]
    }
   ],
   "source": [
    "p10 = [1,5,2,8,4,10,7,9,3,6]\n",
    "p8 = [6,3,7,4,8,5,10,9]\n",
    "key = [1,0,1,0,0,0,0,0,1,0]\n",
    "print('Initial Key : {}'.format(key))\n",
    "new_key = [1,2,3,4,5,6,7,8,9,0]\n",
    "for i, val in enumerate(p10):\n",
    "    new_key[i] = key[val-1]\n",
    "\n",
    "key_left = new_key[:5]\n",
    "key_right = new_key[5:]\n",
    "\n",
    "temp = key_left.pop(0)\n",
    "key_left.append(temp)\n",
    "\n",
    "temp = key_right.pop(0)\n",
    "key_right.append(temp)\n",
    "\n",
    "new_key = key_left + key_right\n",
    "\n",
    "key = [1,2,3,4,5,6,7,8]\n",
    "\n",
    "for i, val in enumerate(p8):\n",
    "    key[i] = new_key[val-1]\n",
    "\n",
    "print('Final Key : {}'.format(key))"
   ]
  },
  {
   "cell_type": "code",
   "execution_count": null,
   "metadata": {},
   "outputs": [],
   "source": []
  }
 ],
 "metadata": {
  "kernelspec": {
   "display_name": "Python 3",
   "language": "python",
   "name": "python3"
  },
  "language_info": {
   "codemirror_mode": {
    "name": "ipython",
    "version": 3
   },
   "file_extension": ".py",
   "mimetype": "text/x-python",
   "name": "python",
   "nbconvert_exporter": "python",
   "pygments_lexer": "ipython3",
   "version": "3.8.5"
  }
 },
 "nbformat": 4,
 "nbformat_minor": 4
}
