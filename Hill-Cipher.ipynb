{
 "cells": [
  {
   "cell_type": "code",
   "execution_count": 4,
   "metadata": {},
   "outputs": [
    {
     "name": "stdout",
     "output_type": "stream",
     "text": [
      "Enter the size of key (square matrix): 2\n",
      "Enter the key row wise and single space separated:1 5 2 8\n",
      "Enter the plainText: Dhruv Topiwala\n",
      "Ciphered Text: gynmiqfidqwslw\n"
     ]
    }
   ],
   "source": [
    "import numpy as np\n",
    "n = int(input('Enter the size of key (square matrix): '))\n",
    "key = input('Enter the key row wise and single space separated:').split()\n",
    "key = list(map(int,key))\n",
    "key = np.array(key)\n",
    "key = np.reshape(key, (n, n))\n",
    "plainText = input('Enter the plainText: ')\n",
    "asciiPT = list(map(ord, plainText))\n",
    "asciiPT = np.array(asciiPT)\n",
    "asciiPT -= 97\n",
    "asciiPT = asciiPT.tolist()\n",
    "cipherText = []\n",
    "\n",
    "for index in range(0, len(asciiPT), n):\n",
    "\n",
    "    cipher = np.eye(n, 1)\n",
    "    pt = np.eye(n, 1)\n",
    "\n",
    "    for temp in range(0, n):\n",
    "        pt[temp] = asciiPT[index + temp]\n",
    "\n",
    "    cipher = np.dot(key, pt)\n",
    "    cipher = cipher % 26\n",
    "\n",
    "    cipher = np.reshape(cipher, (1, n))\n",
    "    cipher = cipher.tolist()\n",
    "\n",
    "    for x in cipher:\n",
    "        for y in x:\n",
    "            cipherText.append(y)\n",
    "\n",
    "cipherText = np.array(cipherText)\n",
    "cipherForDecryption = cipherText.copy()\n",
    "cipherText += 97\n",
    "\n",
    "cipherText = cipherText.tolist()\n",
    "c = list(map(int, cipherText))\n",
    "c = list(map(chr, c))\n",
    "c = ''.join(c)\n",
    "\n",
    "print('Ciphered Text: {}'.format(c))"
   ]
  },
  {
   "cell_type": "code",
   "execution_count": null,
   "metadata": {},
   "outputs": [],
   "source": []
  }
 ],
 "metadata": {
  "kernelspec": {
   "display_name": "Python 3",
   "language": "python",
   "name": "python3"
  },
  "language_info": {
   "codemirror_mode": {
    "name": "ipython",
    "version": 3
   },
   "file_extension": ".py",
   "mimetype": "text/x-python",
   "name": "python",
   "nbconvert_exporter": "python",
   "pygments_lexer": "ipython3",
   "version": "3.8.5"
  }
 },
 "nbformat": 4,
 "nbformat_minor": 4
}
