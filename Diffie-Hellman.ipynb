{
 "cells": [
  {
   "cell_type": "code",
   "execution_count": 4,
   "metadata": {},
   "outputs": [
    {
     "name": "stdout",
     "output_type": "stream",
     "text": [
      "Sender's Key: 136\n",
      "Reciever's Key: 136\n"
     ]
    }
   ],
   "source": [
    "q = 360\n",
    "alpha = 4\n",
    "\n",
    "Xa = 15\n",
    "Xb = 284\n",
    "\n",
    "Ya = (alpha ** Xa) % q\n",
    "Yb = (alpha ** Xb) % q\n",
    "\n",
    "KeyA = (Yb ** Xa) % q\n",
    "KeyB = (Ya ** Xb) % q\n",
    "\n",
    "print(\"Sender's Key: {}\".format(KeyA))\n",
    "print(\"Reciever's Key: {}\".format(KeyB))"
   ]
  },
  {
   "cell_type": "code",
   "execution_count": null,
   "metadata": {},
   "outputs": [],
   "source": []
  }
 ],
 "metadata": {
  "kernelspec": {
   "display_name": "Python 3",
   "language": "python",
   "name": "python3"
  },
  "language_info": {
   "codemirror_mode": {
    "name": "ipython",
    "version": 3
   },
   "file_extension": ".py",
   "mimetype": "text/x-python",
   "name": "python",
   "nbconvert_exporter": "python",
   "pygments_lexer": "ipython3",
   "version": "3.8.5"
  }
 },
 "nbformat": 4,
 "nbformat_minor": 4
}
