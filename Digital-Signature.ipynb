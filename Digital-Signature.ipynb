{
 "cells": [
  {
   "cell_type": "code",
   "execution_count": 2,
   "metadata": {},
   "outputs": [
    {
     "name": "stdout",
     "output_type": "stream",
     "text": [
      "Enter a prime no.(p): 13\n",
      "Enter another prime no.(q):17\n",
      "n = 221\n",
      "phi_of_n = 192\n",
      "coprime list: [5, 7, 11, 13, 17, 19, 23, 25, 29, 31, 35, 37, 41, 43, 47, 49, 53, 55, 59, 61, 65, 67, 71, 73, 77, 79, 83, 85, 89, 91, 95, 97, 101, 103, 107, 109, 113, 115, 119, 121, 125, 127, 131, 133, 137, 139, 143, 145, 149, 151, 155, 157, 161, 163, 167, 169, 173, 175, 179, 181, 185, 187, 191]\n",
      "e = 85\n",
      "d = 61\n",
      "Enter Message in form of a number(M): 35\n",
      "As M = M1, Accept the message sent by the Sender.\n"
     ]
    }
   ],
   "source": [
    "import math\n",
    "import random\n",
    "\n",
    "p = int(input('Enter a prime no.(p): '))\n",
    "q = int(input('Enter another prime no.(q):'))\n",
    "n = p * q\n",
    "phi_of_n = (p - 1) * (q - 1)\n",
    "\n",
    "print('n = {}'.format(n))\n",
    "print('phi_of_n = {}'.format(phi_of_n))\n",
    "coprime_list = []\n",
    "\n",
    "for temp in range(2, phi_of_n):\n",
    "    if math.gcd(temp, phi_of_n) == 1:\n",
    "        coprime_list.append(temp)\n",
    "\n",
    "print('coprime list: {}'.format(coprime_list))\n",
    "\n",
    "e = random.choice(coprime_list)\n",
    "print('e = {}'.format(e))\n",
    "d = None\n",
    "\n",
    "for d in range(1, phi_of_n):\n",
    "    if (d * e) % phi_of_n == 1:\n",
    "        break\n",
    "\n",
    "print('d = {}'.format(d))\n",
    "\n",
    "M = int(input('Enter Message in form of a number(M): '))\n",
    "S = (M ** d) % n\n",
    "M1 = (S ** e) % n\n",
    "\n",
    "if M == M1:\n",
    "     print('As M = M1, Accept the message sent by the Sender.')"
   ]
  },
  {
   "cell_type": "code",
   "execution_count": null,
   "metadata": {},
   "outputs": [],
   "source": []
  }
 ],
 "metadata": {
  "kernelspec": {
   "display_name": "Python 3",
   "language": "python",
   "name": "python3"
  },
  "language_info": {
   "codemirror_mode": {
    "name": "ipython",
    "version": 3
   },
   "file_extension": ".py",
   "mimetype": "text/x-python",
   "name": "python",
   "nbconvert_exporter": "python",
   "pygments_lexer": "ipython3",
   "version": "3.8.5"
  }
 },
 "nbformat": 4,
 "nbformat_minor": 4
}
