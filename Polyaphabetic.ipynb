{
 "cells": [
  {
   "cell_type": "code",
   "execution_count": 1,
   "metadata": {},
   "outputs": [
    {
     "name": "stdout",
     "output_type": "stream",
     "text": [
      "Enter the Key: demolition\n",
      "Enter the plain text to be ciphered: Dhruv Topiwala\n",
      "\n",
      "Final Key with repetition: demolitiondemo\n",
      "\n",
      "Ciphered Text: gldigvmwdvzexo\n",
      "\n",
      "Deciphered Text: dhruvntopiwala\n"
     ]
    }
   ],
   "source": [
    "key = input('Enter the Key: ').lower()\n",
    "plainText = input('Enter the plain text to be ciphered: ').lower()\n",
    "index = 0\n",
    "finalKey = key\n",
    "cipherText = ''\n",
    "decipheredText = ''\n",
    "\n",
    "while len(finalKey) != len(plainText):\n",
    "    if index == len(key):\n",
    "        index = 0\n",
    "\n",
    "    finalKey += key[index]\n",
    "    index += 1\n",
    "\n",
    "print(f'\\nFinal Key with repetition: {finalKey}')\n",
    "\n",
    "index = 0\n",
    "l = len(plainText)\n",
    "\n",
    "while index < l:\n",
    "    cipherText += chr(((ord(plainText[index])-97 + ord(finalKey[index])-97) % 26) + 97)\n",
    "    index += 1\n",
    "\n",
    "print(f'\\nCiphered Text: {cipherText}')\n",
    "\n",
    "index = 0\n",
    "\n",
    "while index < l:\n",
    "    decipheredText += chr((ord(cipherText[index]) - 97 - (ord(finalKey[index])-97) + 26 ) % 26 + 97)\n",
    "    index += 1\n",
    "\n",
    "print(f'\\nDeciphered Text: {decipheredText}') \n"
   ]
  },
  {
   "cell_type": "code",
   "execution_count": null,
   "metadata": {},
   "outputs": [],
   "source": []
  }
 ],
 "metadata": {
  "kernelspec": {
   "display_name": "Python 3",
   "language": "python",
   "name": "python3"
  },
  "language_info": {
   "codemirror_mode": {
    "name": "ipython",
    "version": 3
   },
   "file_extension": ".py",
   "mimetype": "text/x-python",
   "name": "python",
   "nbconvert_exporter": "python",
   "pygments_lexer": "ipython3",
   "version": "3.8.5"
  }
 },
 "nbformat": 4,
 "nbformat_minor": 4
}
