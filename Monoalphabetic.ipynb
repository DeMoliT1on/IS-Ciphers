{
 "cells": [
  {
   "cell_type": "code",
   "execution_count": 5,
   "metadata": {},
   "outputs": [
    {
     "name": "stdout",
     "output_type": "stream",
     "text": [
      "Enter Plaintext: dhruv topiwala\n",
      "Cipher Text: wdnmi jbyckqvq\n",
      "Enter Ciphertext: wdnmi jbyckqvq\n",
      "Cipher Text: dhruv topiwala\n"
     ]
    }
   ],
   "source": [
    "def encrypt(plaintext):\n",
    "    cipher=\"\"\n",
    "    for i in range(len(plaintext)):\n",
    "        cipher+=encryptMap[decryptMap.index(plaintext[i])]\n",
    "    print(\"Cipher Text: {}\".format(cipher))\n",
    "def decrypt(ciphertext):\n",
    "    plaintext=\"\"\n",
    "    for i in range(len(ciphertext)):\n",
    "        plaintext+=decryptMap[encryptMap.index(ciphertext[i])]\n",
    "    print(\"Cipher Text: {}\".format(plaintext))\n",
    "decryptMap=[' ','a','b','c','d','e','f','g','h','i','j','k','l','m','n','o','p','q','r','s','t','u','v','w','x','y','z']\n",
    "encryptMap=[' ','q','a','z','w','s','x','e','d','c','r','f','v','t','g','b','y','h','n','u','j','m','i','k','o','l','p']\n",
    "encrypt(input(\"Enter Plaintext: \").lower())\n",
    "decrypt(input(\"Enter Ciphertext: \").lower())"
   ]
  },
  {
   "cell_type": "code",
   "execution_count": null,
   "metadata": {},
   "outputs": [],
   "source": []
  }
 ],
 "metadata": {
  "kernelspec": {
   "display_name": "Python 3",
   "language": "python",
   "name": "python3"
  },
  "language_info": {
   "codemirror_mode": {
    "name": "ipython",
    "version": 3
   },
   "file_extension": ".py",
   "mimetype": "text/x-python",
   "name": "python",
   "nbconvert_exporter": "python",
   "pygments_lexer": "ipython3",
   "version": "3.8.5"
  }
 },
 "nbformat": 4,
 "nbformat_minor": 4
}
