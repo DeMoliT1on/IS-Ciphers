{
 "cells": [
  {
   "cell_type": "code",
   "execution_count": 2,
   "metadata": {},
   "outputs": [
    {
     "name": "stdout",
     "output_type": "stream",
     "text": [
      "Enter keyword: demolition\n",
      "Enter the message to be ciphered: DhruvTopiwala\n",
      "Ciphered Text: ocspwidstvbony\n"
     ]
    }
   ],
   "source": [
    "def index_2d(myList, v):\n",
    "    for index, row in enumerate(myList):\n",
    "        if v in row:\n",
    "            return index, row.index(v)\n",
    "rawkey=input(\"Enter keyword: \").lower()\n",
    "rawkey=rawkey.replace(' ','')\n",
    "rawkey=rawkey.replace('j','i')\n",
    "key=\"\"\n",
    "for i in range(len(rawkey)):\n",
    "    if(rawkey[i] not in key):\n",
    "        key+=rawkey[i]\n",
    "for i in range(97,123):\n",
    "    if(chr(i) not in key and chr(i)!='j'):\n",
    "        key+=chr(i)\n",
    "matrix = [[0 for j in range(5)] for i in range(5)]\n",
    "i = 0\n",
    "for row in range(5):\n",
    "    for col in range(5):\n",
    "        matrix[row][col] = key[i]\n",
    "        i += 1\n",
    "msg = input('Enter the message to be ciphered: ').lower()\n",
    "l = list(msg)\n",
    "index = 0\n",
    "finalmsg = ''\n",
    "\n",
    "while index < len(l):\n",
    "    if len(l) % 2 != 0:\n",
    "        if index == len(l) - 1:\n",
    "            l.append('x')\n",
    "\n",
    "        elif l[index] == l[index + 1]:\n",
    "            l.insert(index + 1, 'x')\n",
    "            index = 0\n",
    "\n",
    "        else:\n",
    "            index += 2\n",
    "    else:\n",
    "        if l[index] == l[index + 1]:\n",
    "            l.insert(index + 1, 'x')\n",
    "            index = 0\n",
    "        else:\n",
    "            index += 2\n",
    "\n",
    "finalmsg = ''.join(map(str, l))\n",
    "\n",
    "length = len(finalmsg)\n",
    "index = 0\n",
    "cipheredText = ''\n",
    "while index < length:\n",
    "    row1, col1 = index_2d(matrix, finalmsg[index])\n",
    "    row2, col2 = index_2d(matrix, finalmsg[index+1])\n",
    "\n",
    "    if col1 == col2:\n",
    "        cipheredText += matrix[(row1 + 1) % 5][col1] + matrix[(row2 + 1) % 5][col2]\n",
    "    elif row1 == row2:\n",
    "        cipheredText += matrix[row1][(col1 + 1) % 5] + matrix[row2][(col2 + 1) % 5]\n",
    "    else:\n",
    "        cipheredText += matrix[row1][col2] + matrix[row2][col1]\n",
    "\n",
    "    index += 2\n",
    "\n",
    "print(f'Ciphered Text: {cipheredText}')"
   ]
  },
  {
   "cell_type": "code",
   "execution_count": null,
   "metadata": {},
   "outputs": [],
   "source": []
  }
 ],
 "metadata": {
  "kernelspec": {
   "display_name": "Python 3",
   "language": "python",
   "name": "python3"
  },
  "language_info": {
   "codemirror_mode": {
    "name": "ipython",
    "version": 3
   },
   "file_extension": ".py",
   "mimetype": "text/x-python",
   "name": "python",
   "nbconvert_exporter": "python",
   "pygments_lexer": "ipython3",
   "version": "3.8.5"
  }
 },
 "nbformat": 4,
 "nbformat_minor": 4
}
