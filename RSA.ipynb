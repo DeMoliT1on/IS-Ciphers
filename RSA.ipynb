{
 "cells": [
  {
   "cell_type": "code",
   "execution_count": 5,
   "metadata": {},
   "outputs": [
    {
     "name": "stdout",
     "output_type": "stream",
     "text": [
      "Enter a prime no.(p): 11\n",
      "Enter another prime no.(q):17\n",
      "n = 187\n",
      "phi_of_n = 160\n",
      "coprime list: [3, 7, 9, 11, 13, 17, 19, 21, 23, 27, 29, 31, 33, 37, 39, 41, 43, 47, 49, 51, 53, 57, 59, 61, 63, 67, 69, 71, 73, 77, 79, 81, 83, 87, 89, 91, 93, 97, 99, 101, 103, 107, 109, 111, 113, 117, 119, 121, 123, 127, 129, 131, 133, 137, 139, 141, 143, 147, 149, 151, 153, 157, 159]\n",
      "e = 159\n",
      "d = 159\n",
      "Enter Message in form of a number(M): 88\n",
      "Encrypted Text: 176\n",
      "Decrypted Text: 88\n"
     ]
    }
   ],
   "source": [
    "import math\n",
    "import random\n",
    "\n",
    "p = int(input('Enter a prime no.(p): '))\n",
    "q = int(input('Enter another prime no.(q):'))\n",
    "\n",
    "n = p * q\n",
    "phi_of_n = (p - 1) * (q - 1)\n",
    "\n",
    "print('n = {}'.format(n))\n",
    "print('phi_of_n = {}'.format(phi_of_n))\n",
    "\n",
    "coprime_list = []\n",
    "\n",
    "for temp in range(2, phi_of_n):\n",
    "    if math.gcd(temp, phi_of_n) == 1:\n",
    "        coprime_list.append(temp)\n",
    "\n",
    "print('coprime list: {}'.format(coprime_list))\n",
    "\n",
    "e = random.choice(coprime_list)\n",
    "print('e = {}'.format(e))\n",
    "d = None\n",
    "\n",
    "for d in range(1, phi_of_n):\n",
    "    if (d * e) % phi_of_n == 1:\n",
    "        break\n",
    "\n",
    "print('d = {}'.format(d))\n",
    "\n",
    "M = int(input('Enter Message in form of a number(M): '))\n",
    "C = (M ** e) % n\n",
    "\n",
    "print('Encrypted Text: {}'.format(C))\n",
    "\n",
    "M = (C ** d) % n\n",
    "print('Decrypted Text: {}'.format(M))"
   ]
  },
  {
   "cell_type": "code",
   "execution_count": null,
   "metadata": {},
   "outputs": [],
   "source": []
  }
 ],
 "metadata": {
  "kernelspec": {
   "display_name": "Python 3",
   "language": "python",
   "name": "python3"
  },
  "language_info": {
   "codemirror_mode": {
    "name": "ipython",
    "version": 3
   },
   "file_extension": ".py",
   "mimetype": "text/x-python",
   "name": "python",
   "nbconvert_exporter": "python",
   "pygments_lexer": "ipython3",
   "version": "3.8.5"
  }
 },
 "nbformat": 4,
 "nbformat_minor": 4
}
